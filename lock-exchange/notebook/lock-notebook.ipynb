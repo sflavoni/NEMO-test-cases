{
 "cells": [
  {
   "cell_type": "markdown",
   "metadata": {},
   "source": [
    "# LOCK_EXCHANGE"
   ]
  },
  {
   "cell_type": "markdown",
   "metadata": {},
   "source": [
    "This notebook shows how you can do some analysis of the LOCK EXCHANGE experiment. This is an example of plot of temperature after 17 hours of run, using a forth/order advection scheme."
   ]
  },
  {
   "cell_type": "markdown",
   "metadata": {},
   "source": [
    "# Run python script to have figure"
   ]
  },
  {
   "cell_type": "markdown",
   "metadata": {},
   "source": [
    "To have figure you need 3 outputs:\n",
    "- output filename\n",
    "- mesh_mask file (output via namelist parameter nn_msh=1 in \"namdom\" block)\n",
    "- time step value"
   ]
  },
  {
   "cell_type": "markdown",
   "metadata": {
    "collapsed": true
   },
   "source": [
    "## Do figure with python script: "
   ]
  },
  {
   "cell_type": "code",
   "execution_count": 17,
   "metadata": {},
   "outputs": [
    {
     "name": "stdout",
     "output_type": "stream",
     "text": [
      "Populating the interactive namespace from numpy and matplotlib\n"
     ]
    }
   ],
   "source": [
    "%pylab inline\n",
    "from netCDF4 import Dataset\n",
    "import numpy as np\n",
    "import sys \n",
    "import matplotlib.pyplot as plt \n",
    "import pylab"
   ]
  },
  {
   "cell_type": "code",
   "execution_count": 30,
   "metadata": {},
   "outputs": [],
   "source": [
    "# set time step after 17 hours  \n",
    "time='33'\n",
    "# read netcdf file\n",
    "ncfile = Dataset('LOCK_FCT4_vect_ens_grid_T.nc', mode='r')"
   ]
  },
  {
   "cell_type": "code",
   "execution_count": 31,
   "metadata": {
    "collapsed": true
   },
   "outputs": [],
   "source": [
    "# read mesh_mask\n",
    "ncmesh = Dataset('mesh_mask.nc')\n",
    "lat2d  = ncmesh.variables['gphit'][  :,:].squeeze()\n",
    "lon2d  = ncmesh.variables['glamt'][  :,:].squeeze()\n",
    "msk    = ncmesh.variables['tmask'][0,:,:].squeeze()\n",
    "ncmesh.close()"
   ]
  },
  {
   "cell_type": "code",
   "execution_count": 32,
   "metadata": {
    "collapsed": true
   },
   "outputs": [],
   "source": [
    "# starting computation\n",
    "thetao_nav=ncfile.variables['nav_lon'][1,:] \n",
    "\n",
    "thetao_inst=ncfile.variables['thetao_inst'][time,:,1,:]\n",
    "thetao_e3t_inst=ncfile.variables['e3t_inst'][time,:,1,:]\n",
    "thetao_depth=thetao_e3t_inst.squeeze()  \n",
    "thetao_depth=np.cumsum(thetao_depth,0)  \n",
    "thetao_nav=np.tile(thetao_nav,(np.size(thetao_depth,0),1))"
   ]
  },
  {
   "cell_type": "code",
   "execution_count": 33,
   "metadata": {},
   "outputs": [
    {
     "data": {
      "image/png": "[encoded data removed]",
      "text/plain": [
       "<matplotlib.figure.Figure at 0x1123329d0>"
      ]
     },
     "metadata": {},
     "output_type": "display_data"
    }
   ],
   "source": [
    "# plot figure of Temperature\n",
    "\n",
    "fig = plt.figure(figsize=(14,10)) \n",
    "ax=plt.gca()  #get current axis\n",
    "plt.pcolor(thetao_nav,thetao_depth,thetao_inst,vmin=0,vmax=30,cmap='jet')\n",
    "plt.ylim(np.min(thetao_depth),np.max(thetao_depth))  \n",
    "plt.xlim(np.min(thetao_nav),np.max(thetao_nav))  \n",
    "ax.invert_yaxis() \n",
    "\n",
    "bounds=np.linspace(0,30,31)\n",
    "cb=plt.colorbar(orientation='horizontal', spacing='proportional', ticks=bounds, boundaries=bounds, format='%1i')\n",
    "cb.set_label('temperature (C)')\n",
    "\n",
    "plt.ylabel('depth (m)',fontsize=14)\n",
    "plt.xlabel('x (km)',fontsize=14)\n",
    "plt.title('Lock Exchange (FCT4) after 17 hours', fontsize='18')\n",
    "\n",
    "ncfile.close()"
   ]
  },
  {
   "cell_type": "code",
   "execution_count": null,
   "metadata": {
    "collapsed": true
   },
   "outputs": [],
   "source": []
  }
 ],
 "metadata": {
  "kernelspec": {
   "display_name": "Python 2",
   "language": "python",
   "name": "python2"
  },
  "language_info": {
   "codemirror_mode": {
    "name": "ipython",
    "version": 2
   },
   "file_extension": ".py",
   "mimetype": "text/x-python",
   "name": "python",
   "nbconvert_exporter": "python",
   "pygments_lexer": "ipython2",
   "version": "2.7.14"
  }
 },
 "nbformat": 4,
 "nbformat_minor": 2
}
